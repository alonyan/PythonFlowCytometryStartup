{
 "cells": [
  {
   "cell_type": "markdown",
   "metadata": {},
   "source": [
    "# Analyze JAKi Dose Response"
   ]
  },
  {
   "cell_type": "markdown",
   "metadata": {},
   "source": [
    "Import packages needed for the analysis.  Note: to execute code in a cell press \"Shift return\""
   ]
  },
  {
   "cell_type": "code",
   "execution_count": 8,
   "metadata": {
    "collapsed": false
   },
   "outputs": [],
   "source": [
    "import numpy as np\n",
    "import matplotlib.pyplot as plt\n",
    "import glob\n",
    "import fit\n",
    "import flow_data as flow\n",
    "%matplotlib inline"
   ]
  },
  {
   "cell_type": "markdown",
   "metadata": {},
   "source": [
    "Get data file names using glob.  Note that each text file is obtained by exporting from flowjo, and contains all the single cell measurements."
   ]
  },
  {
   "cell_type": "code",
   "execution_count": 9,
   "metadata": {
    "collapsed": true
   },
   "outputs": [],
   "source": [
    "file_names = glob.glob('data/*.txt')"
   ]
  },
  {
   "cell_type": "markdown",
   "metadata": {},
   "source": [
    "Load each text file into a unique 'flow' class instance.  Classes, in a nutshell, allow a variable instance to have multiple properties and functions associated with it.  Here, I load 'flow' class instance for each text file."
   ]
  },
  {
   "cell_type": "code",
   "execution_count": 10,
   "metadata": {
    "collapsed": true
   },
   "outputs": [],
   "source": [
    "data = []\n",
    "for wfile in file_names:\n",
    "    #the '+=' syntack is similar to C, it appends that data list\n",
    "    #the load_data function, reads the text file and organizes data\n",
    "    data += [flow.data(wfile)]"
   ]
  },
  {
   "cell_type": "markdown",
   "metadata": {},
   "source": [
    "Here is another example of a function in the 'flow' class."
   ]
  },
  {
   "cell_type": "code",
   "execution_count": 11,
   "metadata": {
    "collapsed": false
   },
   "outputs": [
    {
     "name": "stdout",
     "output_type": "stream",
     "text": [
      "0) FSC-A\n",
      "1) FSC-H\n",
      "2) SSC-A\n",
      "3) <PE-A>: JAK1\n",
      "4) <PerCP-Cy5-5-A>: CD25\n",
      "5) <Pacific Blue-A>: pSTAT5\n",
      "6) <APC-A>: STAT5\n"
     ]
    }
   ],
   "source": [
    "data[1].print_channels()"
   ]
  },
  {
   "cell_type": "markdown",
   "metadata": {},
   "source": [
    "Compute the mean of the log10(pSTAT5) for each inhib dose"
   ]
  },
  {
   "cell_type": "code",
   "execution_count": 13,
   "metadata": {
    "collapsed": false
   },
   "outputs": [],
   "source": [
    "pstat = np.array([])\n",
    "for wdata in data:\n",
    "    temp = np.mean(np.log10(wdata.get_data('pSTAT5')))\n",
    "    pstat = np.hstack([pstat,temp])\n",
    "\n",
    "#transform data to linear scale, because hill model is a linear model\n",
    "pstat = 10**pstat\n",
    "#inhibitor concentrations in nM, note that exponents in python\n",
    "# are represented as '**' not '^'.  Also, you do not need matlab's '.' \n",
    "# notation to specify an array operation.\n",
    "inhib_dose = 1000 / 2**np.linspace(0,11,12)"
   ]
  },
  {
   "cell_type": "markdown",
   "metadata": {},
   "source": [
    "Fit the data to a hill model using the 'fit' class."
   ]
  },
  {
   "cell_type": "code",
   "execution_count": 14,
   "metadata": {
    "collapsed": false
   },
   "outputs": [
    {
     "name": "stdout",
     "output_type": "stream",
     "text": [
      "Optimization terminated successfully.\n",
      "         Current function value: 69173.120970\n",
      "         Iterations: 189\n",
      "         Function evaluations: 325\n"
     ]
    }
   ],
   "source": [
    "pars_mle = fit.fit_hill(inhib_dose,pstat)"
   ]
  },
  {
   "cell_type": "markdown",
   "metadata": {},
   "source": [
    "Plot the result"
   ]
  },
  {
   "cell_type": "code",
   "execution_count": 15,
   "metadata": {
    "collapsed": false
   },
   "outputs": [
    {
     "data": {
      "image/png": "[encoded data removed]",
      "text/plain": [
       "<matplotlib.figure.Figure at 0x113bbaed0>"
      ]
     },
     "metadata": {},
     "output_type": "display_data"
    }
   ],
   "source": [
    "xplot = np.logspace(np.log10(inhib_dose.min()),\n",
    "                   np.log10(inhib_dose.max()),\n",
    "                    250)\n",
    "\n",
    "plt.figure()\n",
    "plt.plot(inhib_dose,pstat,'o',\n",
    "        color = 'k',ms = 10,alpha = 0.75)\n",
    "plt.plot(xplot,fit.hill_model(pars_mle,xplot),'-',\n",
    "        linewidth = 2.5,color = 'k',alpha = 0.7)\n",
    "plt.xscale('log')\n",
    "plt.yscale('log')\n",
    "plt.xlabel(r'[I$_\\mathregular{AZD1480}$] nM',fontsize = 15)\n",
    "plt.ylabel('pSTAT5 (a.u.)',fontsize = 15)\n",
    "plt.show(block = False)"
   ]
  },
  {
   "cell_type": "code",
   "execution_count": null,
   "metadata": {
    "collapsed": false
   },
   "outputs": [],
   "source": []
  },
  {
   "cell_type": "code",
   "execution_count": null,
   "metadata": {
    "collapsed": true
   },
   "outputs": [],
   "source": []
  }
 ],
 "metadata": {
  "kernelspec": {
   "display_name": "Python 2",
   "language": "python",
   "name": "python2"
  },
  "language_info": {
   "codemirror_mode": {
    "name": "ipython",
    "version": 2
   },
   "file_extension": ".py",
   "mimetype": "text/x-python",
   "name": "python",
   "nbconvert_exporter": "python",
   "pygments_lexer": "ipython2",
   "version": "2.7.11"
  }
 },
 "nbformat": 4,
 "nbformat_minor": 0
}
